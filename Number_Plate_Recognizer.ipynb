{
  "nbformat": 4,
  "nbformat_minor": 0,
  "metadata": {
    "colab": {
      "name": "Number Plate Recognizer.ipynb",
      "provenance": [],
      "collapsed_sections": []
    },
    "kernelspec": {
      "name": "python3",
      "display_name": "Python 3"
    },
    "language_info": {
      "name": "python"
    }
  },
  "cells": [
    {
      "cell_type": "markdown",
      "metadata": {
        "id": "WnH8EElfmZBN"
      },
      "source": [
        "### Number Plate Recognizer"
      ]
    },
    {
      "cell_type": "code",
      "metadata": {
        "colab": {
          "base_uri": "https://localhost:8080/"
        },
        "id": "q2Gj5ZNdbtiK",
        "outputId": "783618ea-1b61-44e5-fd3e-c2ee9bebabce"
      },
      "source": [
        "! sudo apt install tesseract-ocr\n",
        "! pip install pytesseract  --quiet\n",
        "! pip install streamlit    --quiet\n",
        "! pip install pyngrok==4.1.1 --quiet\n",
        "from pyngrok import ngrok\n",
        "! pip install opencv-python\n",
        "! wget https://raw.githubusercontent.com/opencv/opencv/master/data/haarcascades/haarcascade_russian_plate_number.xml"
      ],
      "execution_count": null,
      "outputs": [
        {
          "output_type": "stream",
          "text": [
            "Reading package lists... Done\n",
            "Building dependency tree       \n",
            "Reading state information... Done\n",
            "The following additional packages will be installed:\n",
            "  tesseract-ocr-eng tesseract-ocr-osd\n",
            "The following NEW packages will be installed:\n",
            "  tesseract-ocr tesseract-ocr-eng tesseract-ocr-osd\n",
            "0 upgraded, 3 newly installed, 0 to remove and 40 not upgraded.\n",
            "Need to get 4,795 kB of archives.\n",
            "After this operation, 15.8 MB of additional disk space will be used.\n",
            "Get:1 http://archive.ubuntu.com/ubuntu bionic/universe amd64 tesseract-ocr-eng all 4.00~git24-0e00fe6-1.2 [1,588 kB]\n",
            "Get:2 http://archive.ubuntu.com/ubuntu bionic/universe amd64 tesseract-ocr-osd all 4.00~git24-0e00fe6-1.2 [2,989 kB]\n",
            "Get:3 http://archive.ubuntu.com/ubuntu bionic/universe amd64 tesseract-ocr amd64 4.00~git2288-10f4998a-2 [218 kB]\n",
            "Fetched 4,795 kB in 2s (2,816 kB/s)\n",
            "debconf: unable to initialize frontend: Dialog\n",
            "debconf: (No usable dialog-like program is installed, so the dialog based frontend cannot be used. at /usr/share/perl5/Debconf/FrontEnd/Dialog.pm line 76, <> line 3.)\n",
            "debconf: falling back to frontend: Readline\n",
            "debconf: unable to initialize frontend: Readline\n",
            "debconf: (This frontend requires a controlling tty.)\n",
            "debconf: falling back to frontend: Teletype\n",
            "dpkg-preconfigure: unable to re-open stdin: \n",
            "Selecting previously unselected package tesseract-ocr-eng.\n",
            "(Reading database ... 160837 files and directories currently installed.)\n",
            "Preparing to unpack .../tesseract-ocr-eng_4.00~git24-0e00fe6-1.2_all.deb ...\n",
            "Unpacking tesseract-ocr-eng (4.00~git24-0e00fe6-1.2) ...\n",
            "Selecting previously unselected package tesseract-ocr-osd.\n",
            "Preparing to unpack .../tesseract-ocr-osd_4.00~git24-0e00fe6-1.2_all.deb ...\n",
            "Unpacking tesseract-ocr-osd (4.00~git24-0e00fe6-1.2) ...\n",
            "Selecting previously unselected package tesseract-ocr.\n",
            "Preparing to unpack .../tesseract-ocr_4.00~git2288-10f4998a-2_amd64.deb ...\n",
            "Unpacking tesseract-ocr (4.00~git2288-10f4998a-2) ...\n",
            "Setting up tesseract-ocr-osd (4.00~git24-0e00fe6-1.2) ...\n",
            "Setting up tesseract-ocr-eng (4.00~git24-0e00fe6-1.2) ...\n",
            "Setting up tesseract-ocr (4.00~git2288-10f4998a-2) ...\n",
            "Processing triggers for man-db (2.8.3-2ubuntu0.1) ...\n",
            "  Building wheel for pytesseract (setup.py) ... \u001b[?25l\u001b[?25hdone\n",
            "\u001b[K     |████████████████████████████████| 7.9 MB 8.5 MB/s \n",
            "\u001b[K     |████████████████████████████████| 75 kB 4.7 MB/s \n",
            "\u001b[K     |████████████████████████████████| 4.2 MB 53.8 MB/s \n",
            "\u001b[K     |████████████████████████████████| 170 kB 62.3 MB/s \n",
            "\u001b[K     |████████████████████████████████| 111 kB 65.8 MB/s \n",
            "\u001b[K     |████████████████████████████████| 122 kB 70.8 MB/s \n",
            "\u001b[K     |████████████████████████████████| 786 kB 54.0 MB/s \n",
            "\u001b[K     |████████████████████████████████| 368 kB 54.7 MB/s \n",
            "\u001b[K     |████████████████████████████████| 63 kB 2.4 MB/s \n",
            "\u001b[?25h  Building wheel for blinker (setup.py) ... \u001b[?25l\u001b[?25hdone\n",
            "\u001b[31mERROR: pip's dependency resolver does not currently take into account all the packages that are installed. This behaviour is the source of the following dependency conflicts.\n",
            "jupyter-console 5.2.0 requires prompt-toolkit<2.0.0,>=1.0.0, but you have prompt-toolkit 3.0.19 which is incompatible.\n",
            "google-colab 1.0.0 requires ipykernel~=4.10, but you have ipykernel 6.0.3 which is incompatible.\n",
            "google-colab 1.0.0 requires ipython~=5.5.0, but you have ipython 7.25.0 which is incompatible.\u001b[0m\n",
            "  Building wheel for pyngrok (setup.py) ... \u001b[?25l\u001b[?25hdone\n",
            "Requirement already satisfied: opencv-python in /usr/local/lib/python3.7/dist-packages (4.1.2.30)\n",
            "Requirement already satisfied: numpy>=1.14.5 in /usr/local/lib/python3.7/dist-packages (from opencv-python) (1.19.5)\n",
            "--2021-07-27 20:15:39--  https://raw.githubusercontent.com/opencv/opencv/master/data/haarcascades/haarcascade_russian_plate_number.xml\n",
            "Resolving raw.githubusercontent.com (raw.githubusercontent.com)... 185.199.108.133, 185.199.109.133, 185.199.110.133, ...\n",
            "Connecting to raw.githubusercontent.com (raw.githubusercontent.com)|185.199.108.133|:443... connected.\n",
            "HTTP request sent, awaiting response... 200 OK\n",
            "Length: 75482 (74K) [text/plain]\n",
            "Saving to: ‘haarcascade_russian_plate_number.xml’\n",
            "\n",
            "haarcascade_russian 100%[===================>]  73.71K  --.-KB/s    in 0.009s  \n",
            "\n",
            "2021-07-27 20:15:39 (8.02 MB/s) - ‘haarcascade_russian_plate_number.xml’ saved [75482/75482]\n",
            "\n"
          ],
          "name": "stdout"
        }
      ]
    },
    {
      "cell_type": "code",
      "metadata": {
        "colab": {
          "base_uri": "https://localhost:8080/"
        },
        "id": "tXlAF1gXeuWH",
        "outputId": "dbefd796-f4c7-434d-f79e-8e2f4f361f33"
      },
      "source": [
        "%%writefile app.py\n",
        "import streamlit as st\n",
        "import pytesseract\n",
        "import numpy as np\n",
        "import cv2\n",
        "from PIL import Image\n",
        "st.title(\"Number Plate Recognizer\")\n",
        "img = st.sidebar.file_uploader(\"Choose an image\")\n",
        "if img is not None :\n",
        "  img_read = Image.open(img)\n",
        "  st.image(img)\n",
        "  if st.button('PREDICT') :\n",
        "    classifier = cv2.CascadeClassifier('/content/haarcascade_russian_plate_number.xml')\n",
        "    img = np.array(img_read)\n",
        "    img_rgb = cv2.cvtColor(img, cv2.COLOR_BGR2RGB)\n",
        "    carplate_x = img_rgb\n",
        "    carplate_rects = classifier.detectMultiScale(carplate_x,scaleFactor=1.1, minNeighbors=7)\n",
        "    for x,y,w,h in carplate_rects: \n",
        "      cv2.rectangle(carplate_x, (x,y), (x+w,y+h), (255,0,0), 5)\n",
        "    st.image(carplate_x)\n",
        "    carplate_rects = classifier.detectMultiScale(img_rgb,scaleFactor=1.6, minNeighbors=7)\n",
        "    for x,y,w,h in carplate_rects: \n",
        "      carplate_img = img_rgb[y+15:y+h-10 ,x+15:x+w-20]\n",
        "    carplate_img_gray = cv2.cvtColor(carplate_img, cv2.COLOR_RGB2GRAY)\n",
        "    carplate_img_gray_blur = cv2.medianBlur(carplate_img_gray,3)\n",
        "    op = pytesseract.image_to_string(carplate_img_gray_blur)\n",
        "    a = []\n",
        "    text = \" \"\n",
        "    for i in op :\n",
        "      if ( i  in 'ABCDEFGHIJKLMNOPQRSTUVWXYZ1234567890') :\n",
        "        a.append(i)\n",
        "    listToStr = ' '.join(map(str, a))\n",
        "\n",
        "    st.text('The predicted number plate - ')\n",
        "\n",
        "    st.write(listToStr)"
      ],
      "execution_count": null,
      "outputs": [
        {
          "output_type": "stream",
          "text": [
            "Writing app.py\n"
          ],
          "name": "stdout"
        }
      ]
    },
    {
      "cell_type": "code",
      "metadata": {
        "colab": {
          "base_uri": "https://localhost:8080/"
        },
        "id": "lwf1hfT0gNAX",
        "outputId": "0eecdffd-1f32-42b8-818e-9400282db560"
      },
      "source": [
        "! nohup streamlit run app.py &\n",
        "url = ngrok.connect(port = '8501')\n",
        "print(url)"
      ],
      "execution_count": null,
      "outputs": [
        {
          "output_type": "stream",
          "text": [
            "nohup: appending output to 'nohup.out'\n",
            "http://10e0c8c82636.ngrok.io\n"
          ],
          "name": "stdout"
        }
      ]
    }
  ]
}